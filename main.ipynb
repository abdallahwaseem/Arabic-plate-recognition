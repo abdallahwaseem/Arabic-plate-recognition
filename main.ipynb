{
 "cells": [
  {
   "cell_type": "code",
   "execution_count": null,
   "metadata": {},
   "outputs": [],
   "source": [
    "import plate_detection as pd\n",
    "import character_recognition as cr\n",
    "import cv2\n",
    "import glob\n",
    "import os\n",
    "import commonfunctions as cf"
   ]
  },
  {
   "attachments": {},
   "cell_type": "markdown",
   "metadata": {},
   "source": [
    "# Plate detection"
   ]
  },
  {
   "cell_type": "code",
   "execution_count": null,
   "metadata": {},
   "outputs": [],
   "source": [
    "# clear the output folder\n",
    "files = glob.glob('outputPlateDetection/*')\n",
    "for f in files:\n",
    "  os.remove(f)\n",
    "# read all the images from the folder\n",
    "for imgName in sorted(glob.glob('AllWorking/*.jpg')):\n",
    "  car = cv2.imread(imgName)\n",
    "  # Detect the plate in the image\n",
    "  to_be_modified_plate=pd.plate_detection(car)\n",
    "  # If no plate is detected, continue to the next image\n",
    "  if to_be_modified_plate is None:\n",
    "    continue\n",
    "  to_be_modified_plate = cv2.cvtColor(to_be_modified_plate, cv2.COLOR_GRAY2BGR)\n",
    "  # If the plate is detected, then process it\n",
    "  last_plate_processed=pd.plate_detection(to_be_modified_plate, True)\n",
    "  # If the plate is not processed, continue to the next image\n",
    "  if last_plate_processed is None:\n",
    "    continue\n",
    "  # Save the processed plate\n",
    "  imgName = \"outputPlateDetection/\"+imgName.split('\\\\')[1]\n",
    "  check = cv2.imwrite(imgName, last_plate_processed)\n",
    "  cv2.imwrite('outputPlateDetection/'+imgName, last_plate_processed) "
   ]
  },
  {
   "attachments": {},
   "cell_type": "markdown",
   "metadata": {},
   "source": [
    "# Character segmentation and recognition"
   ]
  },
  {
   "cell_type": "code",
   "execution_count": null,
   "metadata": {},
   "outputs": [],
   "source": [
    "import glob\n",
    "i=0\n",
    "for imgName in sorted(glob.glob('outputPlateDetection/*.jpg')):\n",
    "\n",
    "    plateImage=cv2.imread(imgName)\n",
    "    plateImage=cv2.cvtColor(plateImage,cv2.COLOR_BGR2GRAY)\n",
    "    \n",
    "    txt = cr.readPlate2(plateImage)\n",
    "    if txt !=\"\":\n",
    "        cf.show_images([plateImage])\n",
    "        print(\"Plate Number :  \" + txt)\n",
    "    \n"
   ]
  }
 ],
 "metadata": {
  "kernelspec": {
   "display_name": "base",
   "language": "python",
   "name": "python3"
  },
  "language_info": {
   "codemirror_mode": {
    "name": "ipython",
    "version": 3
   },
   "file_extension": ".py",
   "mimetype": "text/x-python",
   "name": "python",
   "nbconvert_exporter": "python",
   "pygments_lexer": "ipython3",
   "version": "3.9.12"
  },
  "orig_nbformat": 4,
  "vscode": {
   "interpreter": {
    "hash": "46ac77256affca9be963c4bfc484e76fe6b8801dfad5232951d51a627d139deb"
   }
  }
 },
 "nbformat": 4,
 "nbformat_minor": 2
}
